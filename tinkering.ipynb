{
 "cells": [
  {
   "cell_type": "code",
   "execution_count": 1,
   "metadata": {},
   "outputs": [],
   "source": [
    "%matplotlib inline\n",
    "\n",
    "import numpy as np\n",
    "from pyxhmm import baum_welch\n",
    "\n",
    "np.set_printoptions(formatter={'float': '{: 0.3f}'.format})"
   ]
  },
  {
   "cell_type": "raw",
   "metadata": {},
   "source": [
    "cpdef baum_welch(np.float64_t[::1] pi, np.float64_t[:,::1] tau, np.float64_t[:,::1] epsilon, np.int64_t[::1] iota, np.int64_t n_iter):"
   ]
  },
  {
   "cell_type": "code",
   "execution_count": 4,
   "metadata": {},
   "outputs": [
    {
     "name": "stdout",
     "output_type": "stream",
     "text": [
      "n_states: 3, n_emissions: 4, i_state:0\n",
      "\n",
      "tau:\n",
      " [[ 0.800  0.200  0.000]\n",
      " [ 0.000  0.800  0.200]\n",
      " [ 0.200  0.000  0.800]] \n",
      "epsilon:\n",
      " [[ 0.800  0.100  0.050  0.050]\n",
      " [ 0.050  0.800  0.100  0.050]\n",
      " [ 0.050  0.050  0.800  0.100]]\n",
      "\n",
      "data:\n",
      " [0 0 0 ... 2 2 2] \n",
      "states:\n",
      " [0 0 0 ... 2 2 2]\n",
      "CPU times: user 3.65 s, sys: 3.32 ms, total: 3.65 s\n",
      "Wall time: 3.65 s\n"
     ]
    }
   ],
   "source": [
    "%%time\n",
    "\n",
    "# setup toy problem\n",
    "def gen_p_matrix(x0, x1):\n",
    "    p = np.random.rand(x0, x1) + 1e-17\n",
    "    return (p.T / p.sum(axis=1)).T\n",
    "\n",
    "def gen_data(i_state, tau, epsilon, n_data):\n",
    "    n_states, n_emissions = tau.shape[0], epsilon.shape[1]\n",
    "    data, states = np.zeros(n_data, dtype=np.int64), np.zeros(n_data, dtype=np.int64)\n",
    "    for i in range(n_data):\n",
    "        # sample emission\n",
    "        states[i] = i_state\n",
    "        data[i] = np.random.choice(n_emissions, p=epsilon[i_state])\n",
    "        # change state\n",
    "        i_state = np.random.choice(n_states, p=tau[i_state])\n",
    "    return data, states\n",
    "\n",
    "# setup i_state, transition, and emission matrix\n",
    "n_states, n_emissions, i_state = 3, 4, 0\n",
    "tau = np.array([\n",
    "    [0.8, 0.2, 0.0],\n",
    "    [0.0, 0.8, 0.2],\n",
    "    [0.2, 0.0, 0.8]], dtype = np.float64)\n",
    "epsilon = np.array([\n",
    "    [0.8, 0.1, 0.05, 0.05],\n",
    "    [0.05, 0.8, 0.1, 0.05],\n",
    "    [0.05, 0.05, 0.8, 0.1]], dtype = np.float64)\n",
    "# tau, epsilon = gen_p_matrix(n_states, n_states), gen_p_matrix(n_states, n_emissions)\n",
    "\n",
    "print(f'n_states: {n_states}, n_emissions: {n_emissions}, i_state:{i_state}')\n",
    "print('\\ntau:\\n', tau, '\\nepsilon:\\n', epsilon)\n",
    "\n",
    "# generate dataset\n",
    "data, states = gen_data(i_state, tau, epsilon, 100000)\n",
    "print('\\ndata:\\n', data, '\\nstates:\\n', states)"
   ]
  },
  {
   "cell_type": "code",
   "execution_count": 5,
   "metadata": {},
   "outputs": [
    {
     "name": "stdout",
     "output_type": "stream",
     "text": [
      "\n",
      "_pi:\n",
      " [ 0.000  1.000  0.000] \n",
      "_tau:\n",
      " [[ 0.795  0.000  0.205]\n",
      " [ 0.200  0.800  0.000]\n",
      " [ 0.000  0.199  0.801]] \n",
      "_epsilon:\n",
      " [[ 0.048  0.800  0.105  0.048]\n",
      " [ 0.797  0.101  0.051  0.051]\n",
      " [ 0.054  0.050  0.794  0.103]]\n",
      "CPU times: user 10.7 s, sys: 6.67 ms, total: 10.7 s\n",
      "Wall time: 10.7 s\n"
     ]
    }
   ],
   "source": [
    "%%time\n",
    "\n",
    "# attempt to recover pi, tau, and epsilon from data (n_states, n_emissions are given)\n",
    "_tau, _epsilon = gen_p_matrix(n_states, n_states), gen_p_matrix(n_states, n_emissions)\n",
    "_pi = np.ones(n_states)\n",
    "_pi /= _pi.sum()\n",
    "alpha, beta, gamma, delta, ksi, zeta = baum_welch(_pi, _tau, _epsilon, data, 1000)\n",
    "\n",
    "print('\\n_pi:\\n', _pi, '\\n_tau:\\n', _tau, '\\n_epsilon:\\n', _epsilon)"
   ]
  },
  {
   "cell_type": "code",
   "execution_count": null,
   "metadata": {},
   "outputs": [],
   "source": []
  }
 ],
 "metadata": {
  "kernelspec": {
   "display_name": "Python 3",
   "language": "python",
   "name": "python3"
  },
  "language_info": {
   "codemirror_mode": {
    "name": "ipython",
    "version": 3
   },
   "file_extension": ".py",
   "mimetype": "text/x-python",
   "name": "python",
   "nbconvert_exporter": "python",
   "pygments_lexer": "ipython3",
   "version": "3.7.0"
  }
 },
 "nbformat": 4,
 "nbformat_minor": 2
}
